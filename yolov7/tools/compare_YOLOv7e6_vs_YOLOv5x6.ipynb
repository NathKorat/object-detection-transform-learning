version https://git-lfs.github.com/spec/v1
oid sha256:6967c7a78fd24c3490e87d9c4201c8e55c8ce864dc31d2a567eedf2bcf2cb9f6
size 3921517
