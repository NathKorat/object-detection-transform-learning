version https://git-lfs.github.com/spec/v1
oid sha256:6bb8d04438200cb0180666795486f24be4c3598a48a4524649fe8cd30b429ca2
size 5930148
